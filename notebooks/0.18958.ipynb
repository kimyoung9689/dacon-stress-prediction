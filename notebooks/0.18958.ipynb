{
 "cells": [
  {
   "cell_type": "code",
   "execution_count": null,
   "id": "442647ed",
   "metadata": {},
   "outputs": [],
   "source": [
    "# 모델 선택: RandomForestRegressor가 XGBoost나 LightGBM보다 좋은 성능을 보임.\n",
    "\n",
    "# 최적화: GridSearchCV와 교차 검증을 통해 RandomForestRegressor의 \n",
    "# 하이퍼파라미터를 최적화"
   ]
  },
  {
   "cell_type": "code",
   "execution_count": 7,
   "id": "51d31d12",
   "metadata": {},
   "outputs": [
    {
     "name": "stdout",
     "output_type": "stream",
     "text": [
      "Collecting lightgbm\n",
      "  Downloading lightgbm-4.6.0-py3-none-win_amd64.whl.metadata (17 kB)\n",
      "Requirement already satisfied: numpy>=1.17.0 in c:\\users\\rladu\\anaconda3\\envs\\team_project_py310\\lib\\site-packages (from lightgbm) (1.23.5)\n",
      "Requirement already satisfied: scipy in c:\\users\\rladu\\anaconda3\\envs\\team_project_py310\\lib\\site-packages (from lightgbm) (1.11.3)\n",
      "Downloading lightgbm-4.6.0-py3-none-win_amd64.whl (1.5 MB)\n",
      "   ---------------------------------------- 0.0/1.5 MB ? eta -:--:--\n",
      "   ---------------------------------------- 1.5/1.5 MB 19.2 MB/s eta 0:00:00\n",
      "Installing collected packages: lightgbm\n",
      "Successfully installed lightgbm-4.6.0\n",
      "Note: you may need to restart the kernel to use updated packages.\n"
     ]
    }
   ],
   "source": [
    "pip install lightgbm"
   ]
  },
  {
   "cell_type": "code",
   "execution_count": 9,
   "id": "027010ba",
   "metadata": {},
   "outputs": [
    {
     "name": "stdout",
     "output_type": "stream",
     "text": [
      "Fold 1/5 시작\n",
      "Fold 1 RMSE: 0.2333\n",
      "Fold 2/5 시작\n",
      "Fold 2 RMSE: 0.2462\n",
      "Fold 3/5 시작\n",
      "Fold 3 RMSE: 0.2469\n",
      "Fold 4/5 시작\n",
      "Fold 4 RMSE: 0.2497\n",
      "Fold 5/5 시작\n",
      "Fold 5 RMSE: 0.2437\n",
      "\n",
      "평균 교차 검증 RMSE: 0.2440\n",
      "교차 검증을 적용한 RandomForest 모델의 제출 파일 'submission_rf_cv.csv'가 성공적으로 생성되었습니다.\n"
     ]
    }
   ],
   "source": [
    "import pandas as pd\n",
    "from sklearn.model_selection import KFold\n",
    "from sklearn.ensemble import RandomForestRegressor\n",
    "from sklearn.metrics import mean_squared_error\n",
    "import numpy as np\n",
    "\n",
    "# 복합 파생 변수가 적용된 최종 데이터 불러오기\n",
    "train_df_combo = pd.read_csv('../preprocessed_data/train_processed_combo.csv')\n",
    "test_df_combo = pd.read_csv('../preprocessed_data/test_processed_combo.csv')\n",
    "\n",
    "# 피처(X)와 타겟(y) 분리\n",
    "X = train_df_combo.drop(['ID', 'stress_score'], axis=1)\n",
    "y = train_df_combo['stress_score']\n",
    "X_test = test_df_combo.drop('ID', axis=1)\n",
    "\n",
    "# K-Fold 교차 검증 설정 (5개의 폴드로 나눔)\n",
    "n_splits = 5\n",
    "kf = KFold(n_splits=n_splits, shuffle=True, random_state=42)\n",
    "\n",
    "oof_preds = np.zeros(len(X))\n",
    "test_preds = np.zeros(len(X_test))\n",
    "models = []\n",
    "rmse_scores = []\n",
    "\n",
    "# K-Fold 교차 검증\n",
    "for fold, (train_index, val_index) in enumerate(kf.split(X, y)):\n",
    "    print(f\"Fold {fold+1}/{n_splits} 시작\")\n",
    "    \n",
    "    # 훈련 데이터와 검증 데이터 분리\n",
    "    X_train, X_val = X.iloc[train_index], X.iloc[val_index]\n",
    "    y_train, y_val = y.iloc[train_index], y.iloc[val_index]\n",
    "    \n",
    "    # RandomForestRegressor 모델 초기화 및 학습\n",
    "    rf_model = RandomForestRegressor(n_estimators=100, random_state=42, n_jobs=-1)\n",
    "    rf_model.fit(X_train, y_train.values.ravel())\n",
    "    \n",
    "    # 검증 데이터 예측\n",
    "    oof_preds[val_index] = rf_model.predict(X_val)\n",
    "    \n",
    "    # 테스트 데이터 예측 (각 폴드마다 예측 후 평균을 내기 위함)\n",
    "    test_preds += rf_model.predict(X_test) / n_splits\n",
    "    \n",
    "    # 모델 성능 평가\n",
    "    fold_rmse = np.sqrt(mean_squared_error(y_val, oof_preds[val_index]))\n",
    "    rmse_scores.append(fold_rmse)\n",
    "    print(f\"Fold {fold+1} RMSE: {fold_rmse:.4f}\")\n",
    "    \n",
    "# 교차 검증 평균 RMSE\n",
    "mean_rmse = np.mean(rmse_scores)\n",
    "print(f\"\\n평균 교차 검증 RMSE: {mean_rmse:.4f}\")\n",
    "\n",
    "# 제출 파일 생성\n",
    "submission_df = pd.read_csv('../data/sample_submission.csv')\n",
    "submission_df['stress_score'] = test_preds\n",
    "submission_df.to_csv('submission_rf_cv.csv', index=False)\n",
    "\n",
    "print(\"교차 검증을 적용한 RandomForest 모델의 제출 파일 'submission_rf_cv.csv'가 성공적으로 생성되었습니다.\")"
   ]
  },
  {
   "cell_type": "code",
   "execution_count": 10,
   "id": "afab8e61",
   "metadata": {},
   "outputs": [
    {
     "name": "stdout",
     "output_type": "stream",
     "text": [
      "최적의 하이퍼파라미터: {'max_depth': None, 'min_samples_leaf': 1, 'min_samples_split': 2, 'n_estimators': 400}\n",
      "최종 하이퍼파라미터 튜닝이 완료된 모델의 제출 파일 'submission_final_tuned.csv'가 성공적으로 생성되었습니다.\n"
     ]
    }
   ],
   "source": [
    "import pandas as pd\n",
    "from sklearn.model_selection import KFold, GridSearchCV\n",
    "from sklearn.ensemble import RandomForestRegressor\n",
    "from sklearn.metrics import mean_squared_error\n",
    "import numpy as np\n",
    "\n",
    "# 복합 파생 변수가 적용된 최종 데이터 불러오기\n",
    "train_df_combo = pd.read_csv('../preprocessed_data/train_processed_combo.csv')\n",
    "test_df_combo = pd.read_csv('../preprocessed_data/test_processed_combo.csv')\n",
    "\n",
    "# 피처(X)와 타겟(y) 분리\n",
    "X = train_df_combo.drop(['ID', 'stress_score'], axis=1)\n",
    "y = train_df_combo['stress_score']\n",
    "X_test = test_df_combo.drop('ID', axis=1)\n",
    "\n",
    "# K-Fold 교차 검증 설정\n",
    "kf = KFold(n_splits=5, shuffle=True, random_state=42)\n",
    "\n",
    "# RandomForestRegressor 모델 초기화\n",
    "rf = RandomForestRegressor(random_state=42, n_jobs=-1)\n",
    "\n",
    "# 튜닝할 하이퍼파라미터 범위 설정 (더 넓게)\n",
    "param_grid = {\n",
    "    'n_estimators': [100, 200, 400],\n",
    "    'max_depth': [5, 10, 20, None],\n",
    "    'min_samples_split': [2, 5, 10],\n",
    "    'min_samples_leaf': [1, 2, 4]\n",
    "}\n",
    "\n",
    "# GridSearchCV를 사용하여 최적의 하이퍼파라미터 찾기\n",
    "grid_search = GridSearchCV(estimator=rf, param_grid=param_grid, cv=kf, scoring='neg_mean_squared_error', n_jobs=-1)\n",
    "grid_search.fit(X, y)\n",
    "\n",
    "# 최적의 하이퍼파라미터 출력\n",
    "best_params = grid_search.best_params_\n",
    "print(f\"최적의 하이퍼파라미터: {best_params}\")\n",
    "\n",
    "# 최적의 모델로 최종 예측\n",
    "best_model = grid_search.best_estimator_\n",
    "final_predictions_tuned = best_model.predict(X_test)\n",
    "\n",
    "# 제출 파일 생성\n",
    "submission_df = pd.read_csv('../data/sample_submission.csv')\n",
    "submission_df['stress_score'] = final_predictions_tuned\n",
    "submission_df.to_csv('submission_final_tuned.csv', index=False)\n",
    "\n",
    "print(\"최종 하이퍼파라미터 튜닝이 완료된 모델의 제출 파일 'submission_final_tuned.csv'가 성공적으로 생성되었습니다.\")"
   ]
  },
  {
   "cell_type": "code",
   "execution_count": null,
   "id": "2ee08821",
   "metadata": {},
   "outputs": [],
   "source": []
  },
  {
   "cell_type": "code",
   "execution_count": null,
   "id": "d58cc2af",
   "metadata": {},
   "outputs": [],
   "source": [
    "import pandas as pd\n",
    "import numpy as np\n",
    "from sklearn.model_selection import KFold, GridSearchCV\n",
    "from sklearn.ensemble import RandomForestRegressor\n",
    "from sklearn.metrics import mean_squared_error\n",
    "\n",
    "# 복합 파생 변수가 적용된 최종 데이터 불러오기\n",
    "train_df_combo = pd.read_csv('../preprocessed_data/train_processed_combo.csv')\n",
    "\n",
    "# 피처(X)와 타겟(y) 분리\n",
    "X = train_df_combo.drop(['ID', 'stress_score'], axis=1)\n",
    "y = train_df_combo['stress_score']\n",
    "\n",
    "# K-Fold 교차 검증 설정\n",
    "kf = KFold(n_splits=5, shuffle=True, random_state=42)\n",
    "\n",
    "# RandomForestRegressor 모델 초기화\n",
    "rf = RandomForestRegressor(random_state=42, n_jobs=-1)\n",
    "\n",
    "# 튜닝할 하이퍼파라미터 범위 설정\n",
    "param_grid = {\n",
    "    'n_estimators': [100, 200, 400],\n",
    "    'max_depth': [5, 10, 20, None],\n",
    "    'min_samples_split': [2, 5, 10],\n",
    "    'min_samples_leaf': [1, 2, 4]\n",
    "}\n",
    "\n",
    "# GridSearchCV를 사용하여 최적의 하이퍼파라미터 찾기\n",
    "grid_search = GridSearchCV(estimator=rf, param_grid=param_grid, cv=kf, scoring='neg_mean_squared_error', n_jobs=-1)\n",
    "grid_search.fit(X, y)\n",
    "\n",
    "# 최적의 모델 찾기\n",
    "best_model = grid_search.best_estimator_\n",
    "\n",
    "# 특성 중요도 추출\n",
    "feature_importances = pd.Series(best_model.feature_importances_, index=X.columns)\n",
    "top_10_features = feature_importances.nlargest(10)\n",
    "print(\"\\n최고점 모델이 중요하게 생각하는 변수 TOP 10:\")\n",
    "print(top_10_features)"
   ]
  },
  {
   "cell_type": "code",
   "execution_count": null,
   "id": "3257260a",
   "metadata": {},
   "outputs": [],
   "source": []
  },
  {
   "cell_type": "code",
   "execution_count": null,
   "id": "c5a7ff8c",
   "metadata": {},
   "outputs": [],
   "source": []
  },
  {
   "cell_type": "code",
   "execution_count": null,
   "id": "7af209fa",
   "metadata": {},
   "outputs": [],
   "source": []
  },
  {
   "cell_type": "code",
   "execution_count": null,
   "id": "247be6e0",
   "metadata": {},
   "outputs": [],
   "source": []
  }
 ],
 "metadata": {
  "kernelspec": {
   "display_name": "team_project_py310",
   "language": "python",
   "name": "python3"
  },
  "language_info": {
   "codemirror_mode": {
    "name": "ipython",
    "version": 3
   },
   "file_extension": ".py",
   "mimetype": "text/x-python",
   "name": "python",
   "nbconvert_exporter": "python",
   "pygments_lexer": "ipython3",
   "version": "3.10.18"
  }
 },
 "nbformat": 4,
 "nbformat_minor": 5
}
