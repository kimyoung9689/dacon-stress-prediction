{
 "cells": [
  {
   "cell_type": "code",
   "execution_count": 2,
   "id": "6828af6c",
   "metadata": {},
   "outputs": [
    {
     "name": "stdout",
     "output_type": "stream",
     "text": [
      "복합 파생 변수가 추가된 파일이 'preprocessed_data' 폴더에 저장되었습니다.\n"
     ]
    }
   ],
   "source": [
    "import pandas as pd\n",
    "import numpy as np\n",
    "\n",
    "# BMI가 추가된 데이터 불러오기 (경로 수정)\n",
    "train_df = pd.read_csv('../preprocessed_data/train_processed_with_bmi.csv')\n",
    "test_df = pd.read_csv('../preprocessed_data/test_processed_with_bmi.csv')\n",
    "\n",
    "def create_bmi_category(bmi):\n",
    "    \"\"\"BMI 수치에 따라 카테고리를 분류하는 함수\"\"\"\n",
    "    if bmi < 18.5:\n",
    "        return 'Underweight'\n",
    "    elif 18.5 <= bmi < 25:\n",
    "        return 'Normal_BMI'\n",
    "    elif 25 <= bmi < 30:\n",
    "        return 'Overweight'\n",
    "    else:\n",
    "        return 'Obese'\n",
    "\n",
    "def create_cholesterol_category(cholesterol):\n",
    "    \"\"\"콜레스테롤 수치에 따라 카테고리를 분류하는 함수\"\"\"\n",
    "    if cholesterol < 200:\n",
    "        return 'Normal_Cholesterol'\n",
    "    elif 200 <= cholesterol < 240:\n",
    "        return 'Borderline_High_Cholesterol'\n",
    "    else:\n",
    "        return 'High_Cholesterol'\n",
    "\n",
    "def create_glucose_category(glucose):\n",
    "    \"\"\"혈당 수치에 따라 카테고리를 분류하는 함수\"\"\"\n",
    "    if glucose < 100:\n",
    "        return 'Normal_Glucose'\n",
    "    elif 100 <= glucose < 126:\n",
    "        return 'Pre-Diabetic'\n",
    "    else:\n",
    "        return 'Diabetic'\n",
    "\n",
    "# BMI 카테고리 파생 변수 생성\n",
    "train_df['BMI_category'] = np.vectorize(create_bmi_category)(train_df['BMI'])\n",
    "test_df['BMI_category'] = np.vectorize(create_bmi_category)(test_df['BMI'])\n",
    "\n",
    "# 콜레스테롤/혈당 카테고리 파생 변수 생성\n",
    "train_df['cholesterol_category'] = np.vectorize(create_cholesterol_category)(train_df['cholesterol'])\n",
    "test_df['cholesterol_category'] = np.vectorize(create_cholesterol_category)(test_df['cholesterol'])\n",
    "\n",
    "train_df['glucose_category'] = np.vectorize(create_glucose_category)(train_df['glucose'])\n",
    "test_df['glucose_category'] = np.vectorize(create_glucose_category)(test_df['glucose'])\n",
    "\n",
    "# BMI 카테고리와 콜레스테롤/혈당 카테고리를 결합한 새로운 파생 변수 생성\n",
    "train_df['health_status_combo'] = train_df['BMI_category'] + '_' + train_df['cholesterol_category'] + '_' + train_df['glucose_category']\n",
    "test_df['health_status_combo'] = test_df['BMI_category'] + '_' + test_df['cholesterol_category'] + '_' + test_df['glucose_category']\n",
    "\n",
    "\n",
    "# 원-핫 인코딩\n",
    "categorical_cols = ['BMI_category', 'cholesterol_category', 'glucose_category', 'health_status_combo']\n",
    "combined_df = pd.concat([train_df.drop('stress_score', axis=1), test_df], ignore_index=True)\n",
    "combined_df = pd.get_dummies(combined_df, columns=categorical_cols, drop_first=True)\n",
    "\n",
    "# 다시 train과 test 데이터 분리\n",
    "train_processed_combo = combined_df.iloc[:len(train_df)].copy()\n",
    "test_processed_combo = combined_df.iloc[len(train_df):].copy()\n",
    "train_processed_combo['stress_score'] = train_df['stress_score']\n",
    "\n",
    "# 새로운 파일로 저장\n",
    "train_processed_combo.to_csv('../preprocessed_data/train_processed_combo.csv', index=False)\n",
    "test_processed_combo.to_csv('../preprocessed_data/test_processed_combo.csv', index=False)\n",
    "\n",
    "print(\"복합 파생 변수가 추가된 파일이 'preprocessed_data' 폴더에 저장되었습니다.\")"
   ]
  },
  {
   "cell_type": "code",
   "execution_count": 3,
   "id": "23189aed",
   "metadata": {},
   "outputs": [
    {
     "name": "stdout",
     "output_type": "stream",
     "text": [
      "복합 파생 변수 적용 모델의 검증 데이터 RMSE: 0.2353\n",
      "복합 파생 변수가 적용된 모델의 제출 파일 'submission_combo.csv'가 성공적으로 생성되었습니다.\n"
     ]
    }
   ],
   "source": [
    "import pandas as pd\n",
    "from sklearn.model_selection import train_test_split\n",
    "from sklearn.ensemble import RandomForestRegressor\n",
    "from sklearn.metrics import mean_squared_error\n",
    "import numpy as np\n",
    "\n",
    "# 최종 전처리된 데이터 불러오기\n",
    "train_df_combo = pd.read_csv('../preprocessed_data/train_processed_combo.csv')\n",
    "test_df_combo = pd.read_csv('../preprocessed_data/test_processed_combo.csv')\n",
    "\n",
    "# 피처(X)와 타겟(y) 분리\n",
    "X_combo = train_df_combo.drop(['ID', 'stress_score'], axis=1)\n",
    "y_combo = train_df_combo['stress_score']\n",
    "\n",
    "# 훈련 데이터와 검증 데이터로 나누기\n",
    "X_train_combo, X_val_combo, y_train_combo, y_val_combo = train_test_split(X_combo, y_combo, test_size=0.2, random_state=42)\n",
    "\n",
    "# RandomForestRegressor 모델 초기화 및 학습\n",
    "model_combo = RandomForestRegressor(n_estimators=100, random_state=42, n_jobs=-1)\n",
    "model_combo.fit(X_train_combo, y_train_combo.values.ravel())\n",
    "\n",
    "# 검증 데이터로 예측\n",
    "y_pred_combo = model_combo.predict(X_val_combo)\n",
    "\n",
    "# 모델 성능 평가 (RMSE)\n",
    "rmse_combo = np.sqrt(mean_squared_error(y_val_combo, y_pred_combo))\n",
    "print(f\"복합 파생 변수 적용 모델의 검증 데이터 RMSE: {rmse_combo:.4f}\")\n",
    "\n",
    "# 테스트 데이터로 예측\n",
    "final_predictions_combo = model_combo.predict(test_df_combo.drop('ID', axis=1))\n",
    "\n",
    "# 제출 파일 생성\n",
    "submission_df = pd.read_csv('../data/sample_submission.csv')\n",
    "submission_df['stress_score'] = final_predictions_combo\n",
    "submission_df.to_csv('submission_combo.csv', index=False)\n",
    "\n",
    "print(\"복합 파생 변수가 적용된 모델의 제출 파일 'submission_combo.csv'가 성공적으로 생성되었습니다.\")"
   ]
  },
  {
   "cell_type": "code",
   "execution_count": null,
   "id": "2f3a836a",
   "metadata": {},
   "outputs": [],
   "source": []
  },
  {
   "cell_type": "code",
   "execution_count": null,
   "id": "a3a52293",
   "metadata": {},
   "outputs": [],
   "source": []
  },
  {
   "cell_type": "code",
   "execution_count": null,
   "id": "bf3be971",
   "metadata": {},
   "outputs": [],
   "source": []
  },
  {
   "cell_type": "code",
   "execution_count": null,
   "id": "4fa77ddd",
   "metadata": {},
   "outputs": [],
   "source": []
  },
  {
   "cell_type": "code",
   "execution_count": null,
   "id": "91422206",
   "metadata": {},
   "outputs": [],
   "source": []
  }
 ],
 "metadata": {
  "kernelspec": {
   "display_name": "team_project_py310",
   "language": "python",
   "name": "python3"
  },
  "language_info": {
   "codemirror_mode": {
    "name": "ipython",
    "version": 3
   },
   "file_extension": ".py",
   "mimetype": "text/x-python",
   "name": "python",
   "nbconvert_exporter": "python",
   "pygments_lexer": "ipython3",
   "version": "3.10.18"
  }
 },
 "nbformat": 4,
 "nbformat_minor": 5
}
