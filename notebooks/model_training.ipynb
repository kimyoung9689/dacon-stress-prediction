{
 "cells": [
  {
   "cell_type": "code",
   "execution_count": 6,
   "id": "96ccdc80",
   "metadata": {},
   "outputs": [
    {
     "name": "stdout",
     "output_type": "stream",
     "text": [
      "제출 파일 'submission_baseline.csv'가 성공적으로 생성되었습니다.\n"
     ]
    }
   ],
   "source": [
    "import pandas as pd\n",
    "\n",
    "try:\n",
    "    # 샘플 제출 파일 불러오기 (경로 수정)\n",
    "    submission_df = pd.read_csv('../data/sample_submission.csv')\n",
    "    \n",
    "    # 예측 결과를 'stress_score' 컬럼에 할당\n",
    "    submission_df['stress_score'] = final_predictions\n",
    "    \n",
    "    # 제출 파일 저장\n",
    "    submission_df.to_csv('submission_baseline.csv', index=False)\n",
    "    \n",
    "    print(\"제출 파일 'submission_baseline.csv'가 성공적으로 생성되었습니다.\")\n",
    "\n",
    "except FileNotFoundError:\n",
    "    print(\"파일 경로를 찾을 수 없습니다. 'data' 폴더의 위치와 'sample_submission.csv' 파일 이름을 확인해주세요.\")"
   ]
  },
  {
   "cell_type": "code",
   "execution_count": null,
   "id": "327a2121",
   "metadata": {},
   "outputs": [],
   "source": []
  },
  {
   "cell_type": "code",
   "execution_count": null,
   "id": "efac4f26",
   "metadata": {},
   "outputs": [],
   "source": []
  },
  {
   "cell_type": "code",
   "execution_count": null,
   "id": "d437c10f",
   "metadata": {},
   "outputs": [],
   "source": []
  },
  {
   "cell_type": "code",
   "execution_count": null,
   "id": "91950bcf",
   "metadata": {},
   "outputs": [],
   "source": []
  },
  {
   "cell_type": "code",
   "execution_count": null,
   "id": "f8aa975b",
   "metadata": {},
   "outputs": [],
   "source": []
  },
  {
   "cell_type": "code",
   "execution_count": null,
   "id": "c5f50e14",
   "metadata": {},
   "outputs": [],
   "source": []
  }
 ],
 "metadata": {
  "kernelspec": {
   "display_name": "team_project_py310",
   "language": "python",
   "name": "python3"
  },
  "language_info": {
   "codemirror_mode": {
    "name": "ipython",
    "version": 3
   },
   "file_extension": ".py",
   "mimetype": "text/x-python",
   "name": "python",
   "nbconvert_exporter": "python",
   "pygments_lexer": "ipython3",
   "version": "3.10.18"
  }
 },
 "nbformat": 4,
 "nbformat_minor": 5
}
