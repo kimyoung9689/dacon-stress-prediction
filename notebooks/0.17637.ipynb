{
 "cells": [
  {
   "cell_type": "code",
   "execution_count": 1,
   "id": "7147a7fb",
   "metadata": {},
   "outputs": [
    {
     "name": "stdout",
     "output_type": "stream",
     "text": [
      "[LightGBM] [Warning] Found whitespace in feature_names, replace with underlines\n",
      "[LightGBM] [Info] Auto-choosing row-wise multi-threading, the overhead of testing was 0.000132 seconds.\n",
      "You can set `force_row_wise=true` to remove the overhead.\n",
      "And if memory is not enough, you can set `force_col_wise=true`.\n",
      "[LightGBM] [Info] Total Bins 2300\n",
      "[LightGBM] [Info] Number of data points in the train set: 3000, number of used features: 29\n",
      "[LightGBM] [Info] Start training from score 0.482130\n",
      "---\n",
      "submission_filtered.csv 파일이 성공적으로 생성되었습니다! 이 파일을 제출해 보세요.\n"
     ]
    }
   ],
   "source": [
    "import pandas as pd\n",
    "import numpy as np\n",
    "import lightgbm as lgb\n",
    "\n",
    "# 1. 데이터 불러오기\n",
    "try:\n",
    "    train_df = pd.read_csv('../data/train.csv')\n",
    "    test_df = pd.read_csv('../data/test.csv')\n",
    "    submission_df = pd.read_csv('../data/sample_submission.csv')\n",
    "except FileNotFoundError:\n",
    "    print(\"파일 경로를 다시 확인해주세요.\")\n",
    "    exit()\n",
    "\n",
    "# 2. 전처리 및 파생변수 생성 함수\n",
    "def preprocess_and_feature_engineer(df):\n",
    "    df_processed = df.copy()\n",
    "    df_processed.loc[df_processed['bone_density'] < 0, 'bone_density'] = 0\n",
    "    df_processed[['medical_history', 'family_medical_history', 'edu_level']] = df_processed[['medical_history', 'family_medical_history', 'edu_level']].fillna('unknown')\n",
    "    df_processed['mean_working'] = df_processed.groupby(['smoke_status', 'edu_level'])['mean_working'].transform(lambda x: x.fillna(x.median()))\n",
    "    df_processed['mean_working'] = df_processed['mean_working'].fillna(df_processed['mean_working'].median())\n",
    "    categorical_cols = ['gender', 'activity', 'smoke_status', 'sleep_pattern',\n",
    "                        'medical_history', 'family_medical_history', 'edu_level']\n",
    "    df_processed = pd.get_dummies(df_processed, columns=categorical_cols, drop_first=True)\n",
    "    df_processed['BMI'] = df_processed['weight'] / (df_processed['height'] / 100) ** 2\n",
    "    df_processed['Hypertension_flag'] = ((df_processed['systolic_blood_pressure'] >= 140) | (df_processed['diastolic_blood_pressure'] >= 90)).astype(int)\n",
    "    df_processed['Pulse_Pressure'] = df_processed['systolic_blood_pressure'] - df_processed['diastolic_blood_pressure']\n",
    "    df_processed['bp_interaction'] = df_processed['systolic_blood_pressure'] * df_processed['diastolic_blood_pressure']\n",
    "    df_processed['cholesterol_glucose_ratio'] = df_processed['cholesterol'] / (df_processed['glucose'] + 1)\n",
    "    bins = [0, 8, 12, 16, 24]\n",
    "    labels = ['~8h', '8~12h', '12~16h', '16h~']\n",
    "    df_processed['Working_Hour_Group'] = pd.cut(df_processed['mean_working'], bins=bins, labels=labels, right=False)\n",
    "    df_processed = pd.get_dummies(df_processed, columns=['Working_Hour_Group'], prefix='Working_Hour_Group', drop_first=True)\n",
    "    return df_processed\n",
    "\n",
    "# 3. 데이터에 함수 적용\n",
    "train_final = preprocess_and_feature_engineer(train_df)\n",
    "test_final = preprocess_and_feature_engineer(test_df)\n",
    "\n",
    "# 4. 학습 데이터와 테스트 데이터의 컬럼 일치시키기\n",
    "train_cols = set(train_final.columns)\n",
    "test_cols = set(test_final.columns)\n",
    "common_cols = list(train_cols.intersection(test_cols))\n",
    "common_cols = [col for col in common_cols if col not in ['ID', 'stress_score']]\n",
    "\n",
    "# 중요도가 낮은 변수 리스트\n",
    "low_importance_features = ['sleep_pattern_sleep difficulty', 'activity_moderate', 'mean_working']\n",
    "\n",
    "# 중요도가 낮은 변수를 제거한 최종 변수 리스트\n",
    "final_cols = [col for col in common_cols if col not in low_importance_features]\n",
    "\n",
    "X_train = train_final[final_cols]\n",
    "y_train = train_final['stress_score']\n",
    "X_test = test_final[final_cols]\n",
    "\n",
    "# 5. 최종 모델 학습 및 예측 (최적의 파라미터 적용)\n",
    "lgb_model = lgb.LGBMRegressor(\n",
    "    random_state=42,\n",
    "    n_estimators=300,\n",
    "    learning_rate=0.1,\n",
    "    num_leaves=40\n",
    ")\n",
    "lgb_model.fit(X_train, y_train)\n",
    "test_predictions = lgb_model.predict(X_test)\n",
    "\n",
    "# 6. 제출 파일 생성\n",
    "submission_df['stress_score'] = test_predictions\n",
    "submission_df.to_csv('../data/submission_filtered.csv', index=False)\n",
    "\n",
    "print(\"---\")\n",
    "print(\"submission_filtered.csv 파일이 성공적으로 생성되었습니다! 이 파일을 제출해 보세요.\")"
   ]
  },
  {
   "cell_type": "code",
   "execution_count": null,
   "id": "bba971f4",
   "metadata": {},
   "outputs": [],
   "source": []
  }
 ],
 "metadata": {
  "kernelspec": {
   "display_name": "team_project_py310",
   "language": "python",
   "name": "python3"
  },
  "language_info": {
   "codemirror_mode": {
    "name": "ipython",
    "version": 3
   },
   "file_extension": ".py",
   "mimetype": "text/x-python",
   "name": "python",
   "nbconvert_exporter": "python",
   "pygments_lexer": "ipython3",
   "version": "3.10.18"
  }
 },
 "nbformat": 4,
 "nbformat_minor": 5
}
