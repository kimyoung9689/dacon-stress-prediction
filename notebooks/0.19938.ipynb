{
 "cells": [
  {
   "cell_type": "code",
   "execution_count": 3,
   "id": "80228f98",
   "metadata": {},
   "outputs": [
    {
     "name": "stdout",
     "output_type": "stream",
     "text": [
      "건강 등급 파생 변수가 추가된 파일이 'preprocessed_data' 폴더에 저장되었습니다.\n"
     ]
    }
   ],
   "source": [
    "import pandas as pd\n",
    "import numpy as np\n",
    "\n",
    "# BMI가 추가된 데이터 불러오기 (경로 수정)\n",
    "train_df = pd.read_csv('../preprocessed_data/train_processed_with_bmi.csv')\n",
    "test_df = pd.read_csv('../preprocessed_data/test_processed_with_bmi.csv')\n",
    "\n",
    "def create_cholesterol_category(cholesterol):\n",
    "    \"\"\"콜레스테롤 수치에 따라 카테고리를 분류하는 함수 (일반적인 기준)\"\"\"\n",
    "    if cholesterol < 200:\n",
    "        return 'Normal_Cholesterol'\n",
    "    elif 200 <= cholesterol < 240:\n",
    "        return 'Borderline_High_Cholesterol'\n",
    "    else:\n",
    "        return 'High_Cholesterol'\n",
    "\n",
    "def create_glucose_category(glucose):\n",
    "    \"\"\"혈당 수치에 따라 카테고리를 분류하는 함수 (일반적인 기준)\"\"\"\n",
    "    if glucose < 100:\n",
    "        return 'Normal_Glucose'\n",
    "    elif 100 <= glucose < 126:\n",
    "        return 'Pre-Diabetic'\n",
    "    else:\n",
    "        return 'Diabetic'\n",
    "\n",
    "# 함수를 사용하여 새로운 파생 변수 생성\n",
    "train_df['cholesterol_category'] = np.vectorize(create_cholesterol_category)(train_df['cholesterol'])\n",
    "test_df['cholesterol_category'] = np.vectorize(create_cholesterol_category)(test_df['cholesterol'])\n",
    "\n",
    "train_df['glucose_category'] = np.vectorize(create_glucose_category)(train_df['glucose'])\n",
    "test_df['glucose_category'] = np.vectorize(create_glucose_category)(test_df['glucose'])\n",
    "\n",
    "\n",
    "# 원-핫 인코딩\n",
    "categorical_cols = ['cholesterol_category', 'glucose_category']\n",
    "combined_df = pd.concat([train_df.drop('stress_score', axis=1), test_df], ignore_index=True)\n",
    "combined_df = pd.get_dummies(combined_df, columns=categorical_cols, drop_first=True)\n",
    "\n",
    "# 다시 train과 test 데이터 분리\n",
    "train_processed_health = combined_df.iloc[:len(train_df)].copy()\n",
    "test_processed_health = combined_df.iloc[len(train_df):].copy()\n",
    "train_processed_health['stress_score'] = train_df['stress_score']\n",
    "\n",
    "# 새로운 파일로 저장\n",
    "train_processed_health.to_csv('../preprocessed_data/train_processed_with_health_category.csv', index=False)\n",
    "test_processed_health.to_csv('../preprocessed_data/test_processed_with_health_category.csv', index=False)\n",
    "\n",
    "print(\"건강 등급 파생 변수가 추가된 파일이 'preprocessed_data' 폴더에 저장되었습니다.\")"
   ]
  },
  {
   "cell_type": "code",
   "execution_count": 4,
   "id": "3cef6bf7",
   "metadata": {},
   "outputs": [
    {
     "name": "stdout",
     "output_type": "stream",
     "text": [
      "건강 등급 파생 변수 적용 모델의 검증 데이터 RMSE: 0.2347\n",
      "건강 등급 파생 변수가 적용된 모델의 제출 파일 'submission_with_health_category.csv'가 성공적으로 생성되었습니다.\n"
     ]
    }
   ],
   "source": [
    "import pandas as pd\n",
    "from sklearn.model_selection import train_test_split\n",
    "from sklearn.ensemble import RandomForestRegressor\n",
    "from sklearn.metrics import mean_squared_error\n",
    "import numpy as np\n",
    "\n",
    "# 최종 전처리된 데이터 불러오기\n",
    "train_df_health = pd.read_csv('../preprocessed_data/train_processed_with_health_category.csv')\n",
    "test_df_health = pd.read_csv('../preprocessed_data/test_processed_with_health_category.csv')\n",
    "\n",
    "# 피처(X)와 타겟(y) 분리\n",
    "X_health = train_df_health.drop(['ID', 'stress_score'], axis=1)\n",
    "y_health = train_df_health['stress_score']\n",
    "\n",
    "# 훈련 데이터와 검증 데이터로 나누기\n",
    "X_train_health, X_val_health, y_train_health, y_val_health = train_test_split(X_health, y_health, test_size=0.2, random_state=42)\n",
    "\n",
    "# RandomForestRegressor 모델 초기화 및 학습\n",
    "model_health = RandomForestRegressor(n_estimators=100, random_state=42, n_jobs=-1)\n",
    "model_health.fit(X_train_health, y_train_health.values.ravel())\n",
    "\n",
    "# 검증 데이터로 예측\n",
    "y_pred_health = model_health.predict(X_val_health)\n",
    "\n",
    "# 모델 성능 평가 (RMSE)\n",
    "rmse_health = np.sqrt(mean_squared_error(y_val_health, y_pred_health))\n",
    "print(f\"건강 등급 파생 변수 적용 모델의 검증 데이터 RMSE: {rmse_health:.4f}\")\n",
    "\n",
    "# 테스트 데이터로 예측\n",
    "final_predictions_health = model_health.predict(test_df_health.drop('ID', axis=1))\n",
    "\n",
    "# 제출 파일 생성\n",
    "submission_df = pd.read_csv('../data/sample_submission.csv')\n",
    "submission_df['stress_score'] = final_predictions_health\n",
    "submission_df.to_csv('submission_with_health_category.csv', index=False)\n",
    "\n",
    "print(\"건강 등급 파생 변수가 적용된 모델의 제출 파일 'submission_with_health_category.csv'가 성공적으로 생성되었습니다.\")"
   ]
  },
  {
   "cell_type": "code",
   "execution_count": null,
   "id": "de04130a",
   "metadata": {},
   "outputs": [],
   "source": []
  },
  {
   "cell_type": "code",
   "execution_count": null,
   "id": "427d0a06",
   "metadata": {},
   "outputs": [],
   "source": []
  },
  {
   "cell_type": "code",
   "execution_count": null,
   "id": "7e47cd65",
   "metadata": {},
   "outputs": [],
   "source": []
  },
  {
   "cell_type": "code",
   "execution_count": null,
   "id": "b65b53f5",
   "metadata": {},
   "outputs": [],
   "source": []
  },
  {
   "cell_type": "code",
   "execution_count": null,
   "id": "5037d04d",
   "metadata": {},
   "outputs": [],
   "source": []
  },
  {
   "cell_type": "code",
   "execution_count": null,
   "id": "143c42c2",
   "metadata": {},
   "outputs": [],
   "source": []
  }
 ],
 "metadata": {
  "kernelspec": {
   "display_name": "team_project_py310",
   "language": "python",
   "name": "python3"
  },
  "language_info": {
   "codemirror_mode": {
    "name": "ipython",
    "version": 3
   },
   "file_extension": ".py",
   "mimetype": "text/x-python",
   "name": "python",
   "nbconvert_exporter": "python",
   "pygments_lexer": "ipython3",
   "version": "3.10.18"
  }
 },
 "nbformat": 4,
 "nbformat_minor": 5
}
